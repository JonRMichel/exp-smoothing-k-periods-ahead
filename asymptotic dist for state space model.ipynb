{
 "cells": [
  {
   "cell_type": "code",
   "execution_count": 1,
   "metadata": {},
   "outputs": [],
   "source": [
    "import numpy as np\n",
    "import pandas as pd\n",
    "import matplotlib.pyplot as plt"
   ]
  },
  {
   "cell_type": "code",
   "execution_count": 2,
   "metadata": {},
   "outputs": [],
   "source": [
    "def exp_smooth(Y,alpha):\n",
    "    smooth = [0]\n",
    "    for t in range(1, len(Y)):\n",
    "        smooth.append( (1-alpha)*Y[t] + (alpha)* smooth[t-1])\n",
    "        \n",
    "    return smooth\n",
    "\n",
    "def objective(Y,alpha,k_ahead):\n",
    "    data = pd.DataFrame({'Y':Y, 'est':exp_smooth(Y,alpha)})\n",
    "    data['est'] = data['est'].shift(k_ahead)\n",
    "    data = data.dropna()\n",
    "    \n",
    "    sum_squares = np.square(data['Y'] - data['est']).sum()\n",
    "    return sum_squares\n",
    "\n",
    "\n",
    "def minimal_alpha(Y, k_ahead):\n",
    "    obj_df = pd.DataFrame(columns = ['alpha','value'])\n",
    "    \n",
    "    obj_df['alpha'] = np.linspace(0,1,50)\n",
    "    obj_df['value'] = obj_df['alpha'].apply(lambda s: objective(Y,s,k_ahead))\n",
    "    \n",
    "    min_val = obj_df['value'].min()\n",
    "    return obj_df.set_index('value').loc[min_val,'alpha']"
   ]
  },
  {
   "cell_type": "code",
   "execution_count": 12,
   "metadata": {},
   "outputs": [],
   "source": [
    "def generate_data(sample_size, alpha_not):\n",
    "    Y = [np.random.normal(0,1,1)[0]]\n",
    "    level = [alpha_not * np.random.normal(0,1,1)[0]]\n",
    "    \n",
    "    for time_period in range(1, sample_size):\n",
    "        epsilon = np.random.normal(0,1,1)[0]\n",
    "        Y.append( level[time_period-1] +epsilon )\n",
    "        level.append( level[time_period-1] + alpha_not*epsilon )\n",
    "    return Y"
   ]
  },
  {
   "cell_type": "code",
   "execution_count": 41,
   "metadata": {
    "scrolled": true
   },
   "outputs": [
    {
     "data": {
      "text/plain": [
       "0.7755102040816326"
      ]
     },
     "execution_count": 41,
     "metadata": {},
     "output_type": "execute_result"
    },
    {
     "data": {
      "image/png": "[encoded data removed]",
      "text/plain": [
       "<Figure size 432x288 with 1 Axes>"
      ]
     },
     "metadata": {
      "needs_background": "light"
     },
     "output_type": "display_data"
    }
   ],
   "source": [
    "test_data = generate_data(20,.5)\n",
    "\n",
    "obj_df = pd.DataFrame(columns = ['alpha','value'])\n",
    "    \n",
    "obj_df['alpha'] = np.linspace(0,.9,50)\n",
    "obj_df['value'] = obj_df['alpha'].apply(lambda s: objective(test_data,s,1))\n",
    "\n",
    "obj_df.plot(x='alpha',y='value')\n",
    "\n",
    "minimal_alpha(test_data,1)"
   ]
  },
  {
   "cell_type": "code",
   "execution_count": 57,
   "metadata": {},
   "outputs": [
    {
     "data": {
      "text/plain": [
       "array([[<matplotlib.axes._subplots.AxesSubplot object at 0x000001F2DACC1430>]],\n",
       "      dtype=object)"
      ]
     },
     "execution_count": 57,
     "metadata": {},
     "output_type": "execute_result"
    },
    {
     "data": {
      "image/png": "[encoded data removed]",
      "text/plain": [
       "<Figure size 432x288 with 1 Axes>"
      ]
     },
     "metadata": {
      "needs_background": "light"
     },
     "output_type": "display_data"
    }
   ],
   "source": [
    "est_list = []\n",
    "\n",
    "for r in range(1,50):\n",
    "    test_data = generate_data(500,.5)\n",
    "    est_list.append( minimal_alpha(test_data,1) )\n",
    "\n",
    "pd.DataFrame(est_list).hist()"
   ]
  },
  {
   "cell_type": "code",
   "execution_count": 58,
   "metadata": {},
   "outputs": [
    {
     "data": {
      "text/plain": [
       "0.497292794668888"
      ]
     },
     "execution_count": 58,
     "metadata": {},
     "output_type": "execute_result"
    }
   ],
   "source": [
    "pd.DataFrame(est_list).mean()[0]"
   ]
  },
  {
   "cell_type": "code",
   "execution_count": null,
   "metadata": {},
   "outputs": [],
   "source": []
  }
 ],
 "metadata": {
  "kernelspec": {
   "display_name": "Python 3",
   "language": "python",
   "name": "python3"
  },
  "language_info": {
   "codemirror_mode": {
    "name": "ipython",
    "version": 3
   },
   "file_extension": ".py",
   "mimetype": "text/x-python",
   "name": "python",
   "nbconvert_exporter": "python",
   "pygments_lexer": "ipython3",
   "version": "3.8.3"
  }
 },
 "nbformat": 4,
 "nbformat_minor": 4
}
