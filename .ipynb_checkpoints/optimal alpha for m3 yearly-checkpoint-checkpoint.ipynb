{
 "cells": [
  {
   "cell_type": "code",
   "execution_count": 1,
   "metadata": {},
   "outputs": [],
   "source": [
    "import numpy as np\n",
    "import pandas as pd\n",
    "import matplotlib.pyplot as plt"
   ]
  },
  {
   "cell_type": "markdown",
   "metadata": {},
   "source": [
    "## Functions for the code and pulling in data"
   ]
  },
  {
   "cell_type": "code",
   "execution_count": 2,
   "metadata": {},
   "outputs": [],
   "source": [
    "def exp_smooth(Y,alpha):\n",
    "    smooth = [Y[1]]\n",
    "    for t in range(1, len(Y)):\n",
    "        smooth.append( (1-alpha)*Y[t] + (alpha)* smooth[t-1])    \n",
    "    return smooth\n",
    "\n",
    "def objective(Y,alpha,penalty):\n",
    "    data = pd.DataFrame({'Y':Y, 'est':exp_smooth(Y,alpha)})\n",
    "    data['est'] = data['est'].shift(1)\n",
    "    data = data.dropna()\n",
    "    \n",
    "    sum_squares = np.square(data['Y'] - data['est']).sum() + penalty*abs(alpha)\n",
    "    return sum_squares\n",
    "\n",
    "def minimal_alpha(Y, penalty):\n",
    "    obj_df = pd.DataFrame(columns = ['alpha','value'])\n",
    "    \n",
    "    obj_df['alpha'] = np.linspace(0,1,100)\n",
    "    obj_df['value'] = obj_df['alpha'].apply(lambda s: objective(Y,s,penalty))\n",
    "    \n",
    "    min_val = obj_df['value'].min()\n",
    "    return obj_df.set_index('value').loc[min_val,'alpha']"
   ]
  },
  {
   "cell_type": "code",
   "execution_count": 3,
   "metadata": {},
   "outputs": [],
   "source": [
    "# m3_df = pd.read_excel (r'C:/Users/michelj8/Downloads/M3C.xls', sheet_name='M3Year')\n",
    "m3_df = pd.read_excel( 'C:/Users/michelj8/Downloads/M3C.xlsx', sheet_name = 'M3Year')"
   ]
  },
  {
   "cell_type": "code",
   "execution_count": 4,
   "metadata": {},
   "outputs": [],
   "source": [
    "def m3_series_list(number):\n",
    "    single_series_df = pd.DataFrame(m3_df.set_index(['Series','N','NF','Category','Starting Year','Unnamed: 5']).iloc[number].values).dropna()\n",
    "\n",
    "    single_series_df.columns = ['values']\n",
    "\n",
    "    single_series_df['growth'] = single_series_df['values'].pct_change(1)\n",
    "    single_series_df= single_series_df.dropna()\n",
    "\n",
    "    Y = single_series_df['growth']\n",
    "    \n",
    "    return Y"
   ]
  },
  {
   "cell_type": "markdown",
   "metadata": {},
   "source": [
    "## Analysis of the exponential smoother on the yearly data in the M3 Competition (pct_change)"
   ]
  },
  {
   "cell_type": "code",
   "execution_count": 12,
   "metadata": {},
   "outputs": [],
   "source": [
    "alpha_df  = pd.DataFrame(columns  = ['alpha'])\n",
    "\n",
    "for series_count in m3_df.index:\n",
    "    alpha_df.loc[series_count,'alpha'] = minimal_alpha(m3_series_list(series_count) , 0.0 )"
   ]
  },
  {
   "cell_type": "code",
   "execution_count": 19,
   "metadata": {},
   "outputs": [
    {
     "name": "stdout",
     "output_type": "stream",
     "text": [
      "0.05736434108527132\n",
      "0.040310077519379844\n",
      "0.037209302325581395\n",
      "0.03565891472868217\n"
     ]
    },
    {
     "data": {
      "image/png": "[encoded data removed]",
      "text/plain": [
       "<Figure size 432x288 with 1 Axes>"
      ]
     },
     "metadata": {
      "needs_background": "light"
     },
     "output_type": "display_data"
    }
   ],
   "source": [
    "alpha_df['alpha'].hist()\n",
    "\n",
    "print(len(alpha_df.query('alpha < .2'))/len(alpha_df))\n",
    "print(len(alpha_df.query('alpha < .1'))/len(alpha_df))\n",
    "print(len(alpha_df.query('alpha < .05'))/len(alpha_df))\n",
    "print(len(alpha_df.query('alpha < .025'))/len(alpha_df))"
   ]
  },
  {
   "cell_type": "markdown",
   "metadata": {},
   "source": [
    "## Analysis of LASSO for improved forecasting"
   ]
  },
  {
   "cell_type": "code",
   "execution_count": 5,
   "metadata": {},
   "outputs": [],
   "source": [
    "def out_of_sample(Y, gamma, pct_split):\n",
    "    sample_size = len(Y)\n",
    "    Y_train = Y[: round(pct_split*sample_size)].values\n",
    "    Y_test = Y[ round(pct_split*sample_size) :].values\n",
    "    one_lag_prod = sum(Y[0:-1].values *Y[1:].values)\n",
    "#     penalty = gamma*2*one_lag_prod\n",
    "\n",
    "    lag_df = pd.DataFrame(Y)\n",
    "    lag_df['first_dif'] = lag_df.diff(1)\n",
    "    lag_df = lag_df.dropna()\n",
    "    penalty = gamma*2*(lag_df['growth']*lag_df['first_dif']).sum()\n",
    "    \n",
    "    ses_train = minimal_alpha(Y_train,0.0)\n",
    "    lasso_train = minimal_alpha(Y_train, penalty )\n",
    "    \n",
    "    ses_test = objective(Y_test,ses_train,0.0)\n",
    "    lasso_test = objective(Y_test,lasso_train,0.0)\n",
    "    ratio = 100*(lasso_test - ses_test)/ses_test\n",
    "    \n",
    "    return [sample_size, ses_train, lasso_train, ses_test,lasso_test,ratio]"
   ]
  },
  {
   "cell_type": "code",
   "execution_count": 30,
   "metadata": {},
   "outputs": [],
   "source": [
    "# for counter in range(87,105):\n",
    "#     print(out_of_sample( m3_series_list(counter) , .05  , .33))\n",
    "\n",
    "lasso_test_df  = pd.DataFrame(columns  = ['sample_size', 'ses_train', 'lasso_train', 'ses_test','lasso_test','ratio'])\n",
    "\n",
    "for series_count in m3_df.index:\n",
    "# for series_count in range(0,10):\n",
    "    lasso_test_df.loc[series_count] = out_of_sample( m3_series_list(series_count) , .05  , .33)\n"
   ]
  },
  {
   "cell_type": "code",
   "execution_count": 31,
   "metadata": {},
   "outputs": [
    {
     "data": {
      "text/plain": [
       "<matplotlib.axes._subplots.AxesSubplot at 0x230ee3f5b20>"
      ]
     },
     "execution_count": 31,
     "metadata": {},
     "output_type": "execute_result"
    },
    {
     "data": {
      "image/png": "[encoded data removed]",
      "text/plain": [
       "<Figure size 432x288 with 1 Axes>"
      ]
     },
     "metadata": {
      "needs_background": "light"
     },
     "output_type": "display_data"
    }
   ],
   "source": [
    "lasso_test_df['ratio'].hist()"
   ]
  },
  {
   "cell_type": "code",
   "execution_count": 33,
   "metadata": {},
   "outputs": [
    {
     "data": {
      "text/plain": [
       "0.2651162790697674"
      ]
     },
     "execution_count": 33,
     "metadata": {},
     "output_type": "execute_result"
    }
   ],
   "source": [
    "len(lasso_test_df.query('ratio < 0'))/len(lasso_test_df)"
   ]
  },
  {
   "cell_type": "code",
   "execution_count": 35,
   "metadata": {},
   "outputs": [
    {
     "data": {
      "text/plain": [
       "<matplotlib.axes._subplots.AxesSubplot at 0x230ee66ea60>"
      ]
     },
     "execution_count": 35,
     "metadata": {},
     "output_type": "execute_result"
    },
    {
     "data": {
      "image/png": "[encoded data removed]",
      "text/plain": [
       "<Figure size 432x288 with 1 Axes>"
      ]
     },
     "metadata": {
      "needs_background": "light"
     },
     "output_type": "display_data"
    }
   ],
   "source": [
    "lasso_test_df.plot.scatter(x='ses_train',y='ratio')"
   ]
  },
  {
   "cell_type": "code",
   "execution_count": 36,
   "metadata": {},
   "outputs": [
    {
     "data": {
      "text/plain": [
       "<matplotlib.axes._subplots.AxesSubplot at 0x230ef1b35e0>"
      ]
     },
     "execution_count": 36,
     "metadata": {},
     "output_type": "execute_result"
    },
    {
     "data": {
      "image/png": "[encoded data removed]",
      "text/plain": [
       "<Figure size 432x288 with 1 Axes>"
      ]
     },
     "metadata": {
      "needs_background": "light"
     },
     "output_type": "display_data"
    }
   ],
   "source": [
    "lasso_test_df.plot.scatter(x='ses_train',y='lasso_train')"
   ]
  },
  {
   "cell_type": "markdown",
   "metadata": {},
   "source": [
    "### Lambda selection for a single series"
   ]
  },
  {
   "cell_type": "code",
   "execution_count": 389,
   "metadata": {},
   "outputs": [],
   "source": [
    "def penalty_range(Y):\n",
    "#     sd = np.array(Y).std()\n",
    "    \n",
    "# #     sd_count = 0\n",
    "#     lag_df = pd.DataFrame({'values':Y})\n",
    "#     lag_df['first_dif'] = lag_df.diff(1)\n",
    "#     lag_df = lag_df.dropna()\n",
    "\n",
    "#     penalty = (lag_df['values']*lag_df['first_dif']).sum()\n",
    "\n",
    "#     pen_count = 0.0\n",
    "#     alpha_est = minimal_alpha(Y,pen_count * penalty)\n",
    "    \n",
    "#     while(alpha_est > .01):\n",
    "#         pen_count = pen_count + 1\n",
    "#         alpha_est = minimal_alpha(Y,pen_count*penalty)\n",
    "        \n",
    "#     return np.linspace(0,pen_count*sd,25)\n",
    "    guess = 2* np.square(pd.DataFrame(Y).diff(1).dropna()).sum().values[0]\n",
    "    alpha_est = minimal_alpha(Y, guess )\n",
    "\n",
    "    while(alpha_est < .001):\n",
    "        guess = .75*guess\n",
    "        alpha_est = minimal_alpha(Y, guess )\n",
    "\n",
    "    return np.linspace(0, guess/.75, 30)"
   ]
  },
  {
   "cell_type": "code",
   "execution_count": null,
   "metadata": {},
   "outputs": [],
   "source": [
    "Y = m3_series_list(11)\n",
    "sample_size = len(Y)\n",
    "\n",
    "Y_train = Y[0:round(sample_size/2.5)].values\n",
    "Y_validate = Y[round(sample_size/2.5):2*round(sample_size/2.5)].values\n",
    "Y_test = Y[2*round(sample_size/2.5):].values\n",
    "\n",
    "train_index = range(0,round(sample_size/2.5))\n",
    "validate_index = range(round(sample_size/2.5), 2* round(sample_size/2.5))\n",
    "test_index = range(2*round(sample_size/2.5),sample_size+1)\n",
    "\n",
    "\n",
    "# lag_df = pd.DataFrame(Y)\n",
    "# lag_df['first_dif'] = lag_df.diff(1)\n",
    "# lag_df = lag_df.dropna()\n",
    "\n",
    "# penalty = (lag_df['growth']*lag_df['first_dif']).sum()\n",
    "penalty_list = penalty_range(list(Y_train))\n",
    "\n",
    "cv_df = pd.DataFrame(columns =['penalty','train_alpha','validate_sse','test_sse'])\n",
    "cv_df['penalty'] = penalty_list\n",
    "cv_df = cv_df.set_index('penalty')\n",
    "\n",
    "for pen in penalty_list:\n",
    "    train_alpha = minimal_alpha(Y_train,pen)\n",
    "    exp_df = pd.DataFrame({'Y':Y,'exp':exp_smooth(Y,train_alpha)})\n",
    "    exp_df['exp'] = exp_df['exp'].shift(1) \n",
    "    exp_df.dropna()\n",
    "    \n",
    "    val_sse = np.square(exp_df.loc[validate_index]['Y'] - exp_df.loc[validate_index]['exp']).sum()\n",
    "    test_sse = np.square(exp_df.loc[test_index]['Y'] - exp_df.loc[test_index]['exp']).sum()\n",
    "    \n",
    "    cv_df.loc[pen] = [train_alpha,val_sse,test_sse]\n",
    "    \n",
    "cv_df = cv_df.reset_index()"
   ]
  },
  {
   "cell_type": "code",
   "execution_count": null,
   "metadata": {},
   "outputs": [],
   "source": [
    "cv_df.plot(x= 'penalty',y='validate_sse')"
   ]
  },
  {
   "cell_type": "code",
   "execution_count": null,
   "metadata": {},
   "outputs": [],
   "source": [
    "opt_lambda = cv_df[cv_df['validate_sse']== cv_df['validate_sse'].min()]['penalty'].values[0]\n",
    "\n",
    "print('SES test data is ', cv_df.query('penalty == 0.0')['test_sse'].values[0])\n",
    "print('CV lasso test data is ', cv_df.query('penalty == @opt_lambda')['test_sse'].values[0])"
   ]
  },
  {
   "cell_type": "code",
   "execution_count": null,
   "metadata": {},
   "outputs": [],
   "source": [
    "pd.DataFrame(Y).plot()"
   ]
  },
  {
   "cell_type": "code",
   "execution_count": null,
   "metadata": {},
   "outputs": [],
   "source": [
    "cv_df.plot(x='penalty',y='test_sse')"
   ]
  },
  {
   "cell_type": "code",
   "execution_count": null,
   "metadata": {},
   "outputs": [],
   "source": [
    "cv_df"
   ]
  },
  {
   "cell_type": "code",
   "execution_count": null,
   "metadata": {},
   "outputs": [],
   "source": []
  }
 ],
 "metadata": {
  "kernelspec": {
   "display_name": "Python 3",
   "language": "python",
   "name": "python3"
  },
  "language_info": {
   "codemirror_mode": {
    "name": "ipython",
    "version": 3
   },
   "file_extension": ".py",
   "mimetype": "text/x-python",
   "name": "python",
   "nbconvert_exporter": "python",
   "pygments_lexer": "ipython3",
   "version": "3.8.3"
  }
 },
 "nbformat": 4,
 "nbformat_minor": 4
}
