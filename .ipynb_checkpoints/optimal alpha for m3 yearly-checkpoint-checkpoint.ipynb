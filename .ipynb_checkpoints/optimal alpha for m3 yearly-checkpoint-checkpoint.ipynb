{
 "cells": [
  {
   "cell_type": "code",
   "execution_count": 1,
   "metadata": {},
   "outputs": [],
   "source": [
    "import numpy as np\n",
    "import pandas as pd\n",
    "import matplotlib.pyplot as plt"
   ]
  },
  {
   "cell_type": "code",
   "execution_count": 2,
   "metadata": {},
   "outputs": [],
   "source": [
    "def exp_smooth(Y,alpha):\n",
    "    smooth = [Y[1]]\n",
    "    for t in range(1, len(Y)):\n",
    "        smooth.append( (1-alpha)*Y[t] + (alpha)* smooth[t-1])\n",
    "        \n",
    "    return smooth\n",
    "\n",
    "def objective(Y,alpha,penalty):\n",
    "    data = pd.DataFrame({'Y':Y, 'est':exp_smooth(Y,alpha)})\n",
    "    data['est'] = data['est'].shift(1)\n",
    "    data = data.dropna()\n",
    "    \n",
    "    sum_squares = np.square(data['Y'] - data['est']).sum() + penalty*abs(alpha)\n",
    "    return sum_squares\n",
    "\n",
    "def minimal_alpha(Y, penalty):\n",
    "    obj_df = pd.DataFrame(columns = ['alpha','value'])\n",
    "    \n",
    "    obj_df['alpha'] = np.linspace(0,1,100)\n",
    "    obj_df['value'] = obj_df['alpha'].apply(lambda s: objective(Y,s,penalty))\n",
    "    \n",
    "    min_val = obj_df['value'].min()\n",
    "    return obj_df.set_index('value').loc[min_val,'alpha']"
   ]
  },
  {
   "cell_type": "code",
   "execution_count": 3,
   "metadata": {},
   "outputs": [],
   "source": [
    "# m3_df = pd.read_excel (r'C:/Users/michelj8/Downloads/M3C.xls', sheet_name='M3Year')\n",
    "m3_df = pd.read_excel( 'C:/Users/michelj8/Downloads/M3C.xlsx', sheet_name = 'M3Year')"
   ]
  },
  {
   "cell_type": "code",
   "execution_count": 4,
   "metadata": {},
   "outputs": [],
   "source": [
    "def m3_series_list(number):\n",
    "    single_series_df = pd.DataFrame(m3_df.set_index(['Series','N','NF','Category','Starting Year','Unnamed: 5']).iloc[number].values).dropna()\n",
    "\n",
    "    single_series_df.columns = ['values']\n",
    "\n",
    "    single_series_df['growth'] = single_series_df['values'].pct_change(1)\n",
    "    single_series_df= single_series_df.dropna()\n",
    "\n",
    "    Y = single_series_df['growth']\n",
    "    \n",
    "    return Y"
   ]
  },
  {
   "cell_type": "code",
   "execution_count": 14,
   "metadata": {},
   "outputs": [],
   "source": [
    "def out_of_sample(Y, gamma, pct_split):\n",
    "    sample_size = len(Y)\n",
    "    Y_train = Y[: round(pct_split*sample_size)].values\n",
    "    Y_test = Y[ round(pct_split*sample_size) :].values\n",
    "    one_lag_prod = sum(Y[0:-1].values *Y[1:].values)\n",
    "#     penalty = gamma*2*one_lag_prod\n",
    "\n",
    "    lag_df = pd.DataFrame(Y)\n",
    "    lag_df['first_dif'] = lag_df.diff(1)\n",
    "    lag_df = lag_df.dropna()\n",
    "    penalty = gamma*2*(lag_df['growth']*lag_df['first_dif']).sum()\n",
    "    \n",
    "    ses_train = minimal_alpha(Y_train,0.0)\n",
    "    lasso_train = minimal_alpha(Y_train, penalty )\n",
    "    \n",
    "    ses_test = objective(Y_test,ses_train,0.0)\n",
    "    lasso_test = objective(Y_test,lasso_train,0.0)\n",
    "    ratio = 100*(lasso_test - ses_test)/ses_test\n",
    "    \n",
    "    return [sample_size, ses_train, lasso_train, ses_test,lasso_test,ratio]"
   ]
  },
  {
   "cell_type": "code",
   "execution_count": 17,
   "metadata": {},
   "outputs": [
    {
     "name": "stdout",
     "output_type": "stream",
     "text": [
      "[19, 0.6060606060606061, 0.0, 1.0313227205589899, 1.800299856043354, 74.56222190737434]\n",
      "[19, 0.393939393939394, 0.0, 0.07203294787679095, 0.07358970659144995, 2.161175907060986]\n",
      "[19, 0.0, 0.0, 0.198830872555317, 0.198830872555317, 0.0]\n",
      "[19, 1.0, 1.0, 0.02678292323420264, 0.02678292323420264, 0.0]\n",
      "[19, 0.4545454545454546, 0.07070707070707072, 0.33547989062742845, 0.40982953074888684, 22.162174901871644]\n",
      "[19, 0.0, 0.0, 0.21323632959591549, 0.21323632959591549, 0.0]\n",
      "[19, 0.0, 0.0, 0.20375458247543743, 0.20375458247543743, 0.0]\n",
      "[19, 1.0, 0.0, 0.15782460824773265, 0.09840852463824344, -37.64690707562253]\n",
      "[19, 0.0, 0.0, 0.08741739652682726, 0.08741739652682726, 0.0]\n",
      "[19, 1.0, 0.8787878787878789, 1.892052226445729, 0.8811706585248588, -53.42778353533287]\n"
     ]
    }
   ],
   "source": [
    "for counter in range(50,60):\n",
    "    print(out_of_sample( m3_series_list(counter) , .05  , .33))\n",
    "\n",
    "# Y = m3_series_list(5) \n",
    "# gamma = 1\n",
    "# pct_split = .5\n",
    "\n",
    "# sample_size = len(Y)\n",
    "# Y_train = Y[: round(pct_split*sample_size)].values\n",
    "# Y_test = Y[ round(pct_split*sample_size) :].values\n",
    "# penalty = gamma*np.sqrt(sample_size)\n",
    "\n",
    "\n",
    "# ses_train = minimal_alpha(Y_train,0.0)\n",
    "# lasso_train = minimal_alpha(Y_train, penalty )\n",
    "\n",
    "\n",
    "# ses_test = objective(Y_test,ses_train,0.0)\n",
    "\n",
    "# lasso_test = objective(Y_test,lasso_train,0.0)\n",
    "\n",
    "# print( [ses_train, lasso_train,ses_test,lasso_test])"
   ]
  },
  {
   "cell_type": "code",
   "execution_count": 96,
   "metadata": {},
   "outputs": [
    {
     "data": {
      "text/plain": [
       "<matplotlib.axes._subplots.AxesSubplot at 0x210c2fef2e0>"
      ]
     },
     "execution_count": 96,
     "metadata": {},
     "output_type": "execute_result"
    },
    {
     "data": {
      "image/png": "[encoded data removed]",
      "text/plain": [
       "<Figure size 432x288 with 1 Axes>"
      ]
     },
     "metadata": {
      "needs_background": "light"
     },
     "output_type": "display_data"
    }
   ],
   "source": [
    "Y =  m3_series_list(counter)\n",
    "\n",
    "\n",
    "plot_df = pd.DataFrame(columns = ['alpha','value'])\n",
    "plot_df['alpha']=np.linspace(0,1,50)\n",
    "plot_df['value'] = plot_df['alpha'].apply(lambda s: objective(Y, s, .01))\n",
    "plot_df.plot(x='alpha',y='value')"
   ]
  },
  {
   "cell_type": "code",
   "execution_count": 74,
   "metadata": {},
   "outputs": [
    {
     "data": {
      "text/plain": [
       "0.0974511476222565"
      ]
     },
     "execution_count": 74,
     "metadata": {},
     "output_type": "execute_result"
    }
   ],
   "source": []
  },
  {
   "cell_type": "code",
   "execution_count": 22,
   "metadata": {},
   "outputs": [
    {
     "data": {
      "text/html": [
       "<div>\n",
       "<style scoped>\n",
       "    .dataframe tbody tr th:only-of-type {\n",
       "        vertical-align: middle;\n",
       "    }\n",
       "\n",
       "    .dataframe tbody tr th {\n",
       "        vertical-align: top;\n",
       "    }\n",
       "\n",
       "    .dataframe thead th {\n",
       "        text-align: right;\n",
       "    }\n",
       "</style>\n",
       "<table border=\"1\" class=\"dataframe\">\n",
       "  <thead>\n",
       "    <tr style=\"text-align: right;\">\n",
       "      <th></th>\n",
       "      <th>index</th>\n",
       "      <th>alpha</th>\n",
       "    </tr>\n",
       "  </thead>\n",
       "  <tbody>\n",
       "    <tr>\n",
       "      <th>0</th>\n",
       "      <td>0</td>\n",
       "      <td>0.818182</td>\n",
       "    </tr>\n",
       "    <tr>\n",
       "      <th>1</th>\n",
       "      <td>1</td>\n",
       "      <td>0.838384</td>\n",
       "    </tr>\n",
       "    <tr>\n",
       "      <th>2</th>\n",
       "      <td>2</td>\n",
       "      <td>0.727273</td>\n",
       "    </tr>\n",
       "    <tr>\n",
       "      <th>3</th>\n",
       "      <td>3</td>\n",
       "      <td>0.545455</td>\n",
       "    </tr>\n",
       "    <tr>\n",
       "      <th>4</th>\n",
       "      <td>4</td>\n",
       "      <td>0.949495</td>\n",
       "    </tr>\n",
       "    <tr>\n",
       "      <th>5</th>\n",
       "      <td>5</td>\n",
       "      <td>0.424242</td>\n",
       "    </tr>\n",
       "    <tr>\n",
       "      <th>6</th>\n",
       "      <td>6</td>\n",
       "      <td>0.727273</td>\n",
       "    </tr>\n",
       "    <tr>\n",
       "      <th>7</th>\n",
       "      <td>7</td>\n",
       "      <td>0.717172</td>\n",
       "    </tr>\n",
       "    <tr>\n",
       "      <th>8</th>\n",
       "      <td>8</td>\n",
       "      <td>0.707071</td>\n",
       "    </tr>\n",
       "    <tr>\n",
       "      <th>9</th>\n",
       "      <td>9</td>\n",
       "      <td>0.666667</td>\n",
       "    </tr>\n",
       "    <tr>\n",
       "      <th>10</th>\n",
       "      <td>10</td>\n",
       "      <td>0.070707</td>\n",
       "    </tr>\n",
       "    <tr>\n",
       "      <th>11</th>\n",
       "      <td>11</td>\n",
       "      <td>0.939394</td>\n",
       "    </tr>\n",
       "    <tr>\n",
       "      <th>12</th>\n",
       "      <td>12</td>\n",
       "      <td>0.373737</td>\n",
       "    </tr>\n",
       "    <tr>\n",
       "      <th>13</th>\n",
       "      <td>13</td>\n",
       "      <td>1.000000</td>\n",
       "    </tr>\n",
       "    <tr>\n",
       "      <th>14</th>\n",
       "      <td>14</td>\n",
       "      <td>0.818182</td>\n",
       "    </tr>\n",
       "  </tbody>\n",
       "</table>\n",
       "</div>"
      ],
      "text/plain": [
       "    index     alpha\n",
       "0       0  0.818182\n",
       "1       1  0.838384\n",
       "2       2  0.727273\n",
       "3       3  0.545455\n",
       "4       4  0.949495\n",
       "5       5  0.424242\n",
       "6       6  0.727273\n",
       "7       7  0.717172\n",
       "8       8  0.707071\n",
       "9       9  0.666667\n",
       "10     10  0.070707\n",
       "11     11  0.939394\n",
       "12     12  0.373737\n",
       "13     13  1.000000\n",
       "14     14  0.818182"
      ]
     },
     "execution_count": 22,
     "metadata": {},
     "output_type": "execute_result"
    }
   ],
   "source": [
    "alpha_df = pd.DataFrame(columns = ['index','alpha'])\n",
    "\n",
    "# alpha_df['index'] = m3_df.index\n",
    "alpha_df['index'] = range(0,15)\n",
    "alpha_df['alpha'] = alpha_df['index'].apply(lambda s: minimal_alpha(m3_series_list(s),0.0) )"
   ]
  },
  {
   "cell_type": "code",
   "execution_count": 20,
   "metadata": {},
   "outputs": [
    {
     "name": "stdout",
     "output_type": "stream",
     "text": [
      "0.0\n",
      "645\n"
     ]
    },
    {
     "data": {
      "image/png": "[encoded data removed]",
      "text/plain": [
       "<Figure size 432x288 with 1 Axes>"
      ]
     },
     "metadata": {
      "needs_background": "light"
     },
     "output_type": "display_data"
    }
   ],
   "source": [
    "alpha_df['alpha'].hist()\n",
    "\n",
    "print(1*sum(alpha_df['alpha'] < .1 )/len(alpha_df))\n",
    "print(len(alpha_df))"
   ]
  },
  {
   "cell_type": "code",
   "execution_count": null,
   "metadata": {},
   "outputs": [],
   "source": [
    "# lasso_testing_df = pd.DataFrame(columns = ['ses_train','test_ses','test_unit_root'])\n",
    "\n",
    "# for which_series_no in m3_df.index:\n",
    "# # for which_series_no in range(0,2):\n",
    "    \n",
    "#     single_series_df = pd.DataFrame(m3_df.set_index(['Series','N','NF','Category','Starting Year','Unnamed: 5']).iloc[which_series_no].values).dropna()\n",
    "#     single_series_df.columns = ['values']\n",
    "\n",
    "#     single_series_df['growth'] = single_series_df['values'].pct_change(1)\n",
    "#     single_series_df= single_series_df.dropna()\n",
    "#     Y = single_series_df['growth']\n",
    "    \n",
    "#     sample_size = len(Y)\n",
    "#     Y_train = Y[:round(sample_size/3)].values\n",
    "#     Y_test = Y[round(sample_size/3):].values\n",
    "    \n",
    "#     ses_est = minimal_alpha(Y_train,0.0)\n",
    "#     test_ses = objective(Y_test,ses_est,0.0)\n",
    "#     test_unit_root = objective(Y_test,0.0,0.0)\n",
    "    \n",
    "#     lasso_testing_df.loc[which_series_no] = [ses_est,test_ses,test_unit_root]\n"
   ]
  },
  {
   "cell_type": "code",
   "execution_count": null,
   "metadata": {},
   "outputs": [],
   "source": [
    "lasso_testing_df['ratio'] = lasso_testing_df['test_unit_root']/lasso_testing_df['test_ses']\n",
    "lasso_testing_df.plot.scatter(x='ses_train',y='ratio')\n",
    "# lasso_testing_df.query('ses_train < .01')['ratio'].hist()"
   ]
  },
  {
   "cell_type": "code",
   "execution_count": null,
   "metadata": {},
   "outputs": [],
   "source": [
    "lasso_testing_df.query('ratio < 1')['ses_train'].hist()"
   ]
  },
  {
   "cell_type": "code",
   "execution_count": null,
   "metadata": {},
   "outputs": [],
   "source": []
  },
  {
   "cell_type": "code",
   "execution_count": null,
   "metadata": {},
   "outputs": [],
   "source": []
  }
 ],
 "metadata": {
  "kernelspec": {
   "display_name": "Python 3",
   "language": "python",
   "name": "python3"
  },
  "language_info": {
   "codemirror_mode": {
    "name": "ipython",
    "version": 3
   },
   "file_extension": ".py",
   "mimetype": "text/x-python",
   "name": "python",
   "nbconvert_exporter": "python",
   "pygments_lexer": "ipython3",
   "version": "3.8.3"
  }
 },
 "nbformat": 4,
 "nbformat_minor": 4
}
